{
 "cells": [
  {
   "cell_type": "code",
   "execution_count": 2,
   "metadata": {},
   "outputs": [],
   "source": [
    "import pandas as pd\n",
    "import seaborn as sns\n",
    "import numpy as np\n",
    "import matplotlib.pyplot as plt\n",
    "from geopy.geocoders import Nominatim\n",
    "from geopy import distance\n",
    "import statsmodels.api as sm\n",
    "import statsmodels.formula.api as smf\n",
    "from sklearn.linear_model import LinearRegression\n",
    "from sklearn.preprocessing import PolynomialFeatures\n",
    "from sklearn.tree import DecisionTreeRegressor\n",
    "from sklearn.ensemble import RandomForestRegressor\n",
    "from sklearn.model_selection import train_test_split\n",
    "from sklearn.metrics import mean_squared_error, r2_score\n",
    "import scipy.stats as stats"
   ]
  },
  {
   "attachments": {},
   "cell_type": "markdown",
   "metadata": {},
   "source": [
    "# About Regression Models used\n",
    "\n",
    "This notebook presents a thorough regression analysis of a real estate transaction dataset for the year 2023. After cleaning and exploring the data, I applied four regression techniques: linear regression, polynomial regression, decision tree regression, and random forest regression. The goal was to predict property prices based on various features and compare the performance of these models.\n",
    "\n",
    "I then implemented linear regression to capture the linear relationship between independent variables and property prices. To account for potential nonlinear relationships, I also employed polynomial regression. Additionally, decision tree regression was utilized to partition the feature space and make predictions. Finally, random forest regression was implemented to combine multiple decision trees and enhance prediction accuracy, with hyperparameter tuning for optimization."
   ]
  },
  {
   "cell_type": "code",
   "execution_count": 3,
   "metadata": {
    "scrolled": true
   },
   "outputs": [
    {
     "data": {
      "text/html": [
       "<div>\n",
       "<style scoped>\n",
       "    .dataframe tbody tr th:only-of-type {\n",
       "        vertical-align: middle;\n",
       "    }\n",
       "\n",
       "    .dataframe tbody tr th {\n",
       "        vertical-align: top;\n",
       "    }\n",
       "\n",
       "    .dataframe thead th {\n",
       "        text-align: right;\n",
       "    }\n",
       "</style>\n",
       "<table border=\"1\" class=\"dataframe\">\n",
       "  <thead>\n",
       "    <tr style=\"text-align: right;\">\n",
       "      <th></th>\n",
       "      <th>Unnamed: 0</th>\n",
       "      <th>Area</th>\n",
       "      <th>Property Type</th>\n",
       "      <th>Amount</th>\n",
       "      <th>Transaction Size (sq.m)</th>\n",
       "      <th>Property Size (sq.m)</th>\n",
       "      <th>Room(s)</th>\n",
       "      <th>Parking</th>\n",
       "      <th>Nearest Metro</th>\n",
       "      <th>Nearest Mall</th>\n",
       "      <th>...</th>\n",
       "      <th>mall_x</th>\n",
       "      <th>mall_y</th>\n",
       "      <th>Landmark</th>\n",
       "      <th>landmark_x</th>\n",
       "      <th>landmark_y</th>\n",
       "      <th>Metro_Dist</th>\n",
       "      <th>Mall_Dist</th>\n",
       "      <th>Landmark_Dist</th>\n",
       "      <th>Registration type_Ready</th>\n",
       "      <th>Is Free Hold?_Non Free Hold</th>\n",
       "    </tr>\n",
       "  </thead>\n",
       "  <tbody>\n",
       "    <tr>\n",
       "      <th>0</th>\n",
       "      <td>0</td>\n",
       "      <td>BUSINESS BAY</td>\n",
       "      <td>Unit</td>\n",
       "      <td>2631000.0</td>\n",
       "      <td>105.75</td>\n",
       "      <td>105.75</td>\n",
       "      <td>2</td>\n",
       "      <td>1</td>\n",
       "      <td>Business Bay Metro Station</td>\n",
       "      <td>Dubai Mall</td>\n",
       "      <td>...</td>\n",
       "      <td>25.197438</td>\n",
       "      <td>55.276923</td>\n",
       "      <td>Downtown Dubai, Dubai, United Arab Emirates</td>\n",
       "      <td>25.194128</td>\n",
       "      <td>55.267727</td>\n",
       "      <td>1.808766</td>\n",
       "      <td>1.481400</td>\n",
       "      <td>1.256166</td>\n",
       "      <td>0</td>\n",
       "      <td>0</td>\n",
       "    </tr>\n",
       "    <tr>\n",
       "      <th>1</th>\n",
       "      <td>1</td>\n",
       "      <td>JUMEIRAH LAKES TOWERS</td>\n",
       "      <td>Unit</td>\n",
       "      <td>1170137.0</td>\n",
       "      <td>99.64</td>\n",
       "      <td>99.64</td>\n",
       "      <td>2</td>\n",
       "      <td>1</td>\n",
       "      <td>Damac Properties</td>\n",
       "      <td>Marina Mall</td>\n",
       "      <td>...</td>\n",
       "      <td>25.076352</td>\n",
       "      <td>55.139384</td>\n",
       "      <td>Burj Al Arab, Dubai, United Arab Emirates</td>\n",
       "      <td>25.141555</td>\n",
       "      <td>55.183691</td>\n",
       "      <td>0.882072</td>\n",
       "      <td>1.559598</td>\n",
       "      <td>7.418886</td>\n",
       "      <td>0</td>\n",
       "      <td>0</td>\n",
       "    </tr>\n",
       "    <tr>\n",
       "      <th>2</th>\n",
       "      <td>2</td>\n",
       "      <td>JUMEIRAH VILLAGE CIRCLE</td>\n",
       "      <td>Unit</td>\n",
       "      <td>590000.0</td>\n",
       "      <td>63.95</td>\n",
       "      <td>63.95</td>\n",
       "      <td>1</td>\n",
       "      <td>1</td>\n",
       "      <td>Dubai Internet City</td>\n",
       "      <td>Marina Mall</td>\n",
       "      <td>...</td>\n",
       "      <td>25.076352</td>\n",
       "      <td>55.139384</td>\n",
       "      <td>Sports City Swimming Academy, Dubai, United Ar...</td>\n",
       "      <td>25.041833</td>\n",
       "      <td>55.216391</td>\n",
       "      <td>5.656309</td>\n",
       "      <td>9.926351</td>\n",
       "      <td>10.058487</td>\n",
       "      <td>0</td>\n",
       "      <td>0</td>\n",
       "    </tr>\n",
       "    <tr>\n",
       "      <th>3</th>\n",
       "      <td>3</td>\n",
       "      <td>JUMEIRAH VILLAGE CIRCLE</td>\n",
       "      <td>Unit</td>\n",
       "      <td>600000.0</td>\n",
       "      <td>61.36</td>\n",
       "      <td>61.36</td>\n",
       "      <td>1</td>\n",
       "      <td>1</td>\n",
       "      <td>Dubai Internet City</td>\n",
       "      <td>Marina Mall</td>\n",
       "      <td>...</td>\n",
       "      <td>25.076352</td>\n",
       "      <td>55.139384</td>\n",
       "      <td>Sports City Swimming Academy, Dubai, United Ar...</td>\n",
       "      <td>25.041833</td>\n",
       "      <td>55.216391</td>\n",
       "      <td>5.656309</td>\n",
       "      <td>9.926351</td>\n",
       "      <td>10.058487</td>\n",
       "      <td>0</td>\n",
       "      <td>0</td>\n",
       "    </tr>\n",
       "    <tr>\n",
       "      <th>4</th>\n",
       "      <td>4</td>\n",
       "      <td>DUBAI CREEK HARBOUR</td>\n",
       "      <td>Unit</td>\n",
       "      <td>1340888.0</td>\n",
       "      <td>64.09</td>\n",
       "      <td>64.09</td>\n",
       "      <td>1</td>\n",
       "      <td>1</td>\n",
       "      <td>Creek Metro Station</td>\n",
       "      <td>City Centre Mirdif</td>\n",
       "      <td>...</td>\n",
       "      <td>25.216319</td>\n",
       "      <td>55.405220</td>\n",
       "      <td>Dubai International Airport, Dubai, United Ara...</td>\n",
       "      <td>25.253175</td>\n",
       "      <td>55.363098</td>\n",
       "      <td>1.198724</td>\n",
       "      <td>6.074031</td>\n",
       "      <td>5.131121</td>\n",
       "      <td>0</td>\n",
       "      <td>0</td>\n",
       "    </tr>\n",
       "    <tr>\n",
       "      <th>5</th>\n",
       "      <td>5</td>\n",
       "      <td>DUBAI CREEK HARBOUR</td>\n",
       "      <td>Unit</td>\n",
       "      <td>2261888.0</td>\n",
       "      <td>97.23</td>\n",
       "      <td>97.23</td>\n",
       "      <td>2</td>\n",
       "      <td>1</td>\n",
       "      <td>Creek Metro Station</td>\n",
       "      <td>City Centre Mirdif</td>\n",
       "      <td>...</td>\n",
       "      <td>25.216319</td>\n",
       "      <td>55.405220</td>\n",
       "      <td>Dubai International Airport, Dubai, United Ara...</td>\n",
       "      <td>25.253175</td>\n",
       "      <td>55.363098</td>\n",
       "      <td>1.198724</td>\n",
       "      <td>6.074031</td>\n",
       "      <td>5.131121</td>\n",
       "      <td>0</td>\n",
       "      <td>0</td>\n",
       "    </tr>\n",
       "    <tr>\n",
       "      <th>6</th>\n",
       "      <td>7</td>\n",
       "      <td>DUBAI CREEK HARBOUR</td>\n",
       "      <td>Unit</td>\n",
       "      <td>2299888.0</td>\n",
       "      <td>97.23</td>\n",
       "      <td>97.23</td>\n",
       "      <td>2</td>\n",
       "      <td>1</td>\n",
       "      <td>Creek Metro Station</td>\n",
       "      <td>City Centre Mirdif</td>\n",
       "      <td>...</td>\n",
       "      <td>25.216319</td>\n",
       "      <td>55.405220</td>\n",
       "      <td>Dubai International Airport, Dubai, United Ara...</td>\n",
       "      <td>25.253175</td>\n",
       "      <td>55.363098</td>\n",
       "      <td>1.198724</td>\n",
       "      <td>6.074031</td>\n",
       "      <td>5.131121</td>\n",
       "      <td>0</td>\n",
       "      <td>0</td>\n",
       "    </tr>\n",
       "    <tr>\n",
       "      <th>7</th>\n",
       "      <td>8</td>\n",
       "      <td>DUBAI CREEK HARBOUR</td>\n",
       "      <td>Unit</td>\n",
       "      <td>2296888.0</td>\n",
       "      <td>100.15</td>\n",
       "      <td>100.15</td>\n",
       "      <td>2</td>\n",
       "      <td>1</td>\n",
       "      <td>Creek Metro Station</td>\n",
       "      <td>City Centre Mirdif</td>\n",
       "      <td>...</td>\n",
       "      <td>25.216319</td>\n",
       "      <td>55.405220</td>\n",
       "      <td>Dubai International Airport, Dubai, United Ara...</td>\n",
       "      <td>25.253175</td>\n",
       "      <td>55.363098</td>\n",
       "      <td>1.198724</td>\n",
       "      <td>6.074031</td>\n",
       "      <td>5.131121</td>\n",
       "      <td>0</td>\n",
       "      <td>0</td>\n",
       "    </tr>\n",
       "    <tr>\n",
       "      <th>8</th>\n",
       "      <td>9</td>\n",
       "      <td>BUSINESS BAY</td>\n",
       "      <td>Unit</td>\n",
       "      <td>3216000.0</td>\n",
       "      <td>133.39</td>\n",
       "      <td>133.39</td>\n",
       "      <td>2</td>\n",
       "      <td>1</td>\n",
       "      <td>Business Bay Metro Station</td>\n",
       "      <td>Dubai Mall</td>\n",
       "      <td>...</td>\n",
       "      <td>25.197438</td>\n",
       "      <td>55.276923</td>\n",
       "      <td>Downtown Dubai, Dubai, United Arab Emirates</td>\n",
       "      <td>25.194128</td>\n",
       "      <td>55.267727</td>\n",
       "      <td>9.824972</td>\n",
       "      <td>7.784286</td>\n",
       "      <td>8.778089</td>\n",
       "      <td>0</td>\n",
       "      <td>0</td>\n",
       "    </tr>\n",
       "    <tr>\n",
       "      <th>9</th>\n",
       "      <td>10</td>\n",
       "      <td>DUBAI CREEK HARBOUR</td>\n",
       "      <td>Unit</td>\n",
       "      <td>1594888.0</td>\n",
       "      <td>75.42</td>\n",
       "      <td>75.42</td>\n",
       "      <td>1</td>\n",
       "      <td>1</td>\n",
       "      <td>Creek Metro Station</td>\n",
       "      <td>City Centre Mirdif</td>\n",
       "      <td>...</td>\n",
       "      <td>25.216319</td>\n",
       "      <td>55.405220</td>\n",
       "      <td>Dubai International Airport, Dubai, United Ara...</td>\n",
       "      <td>25.253175</td>\n",
       "      <td>55.363098</td>\n",
       "      <td>1.198724</td>\n",
       "      <td>6.074031</td>\n",
       "      <td>5.131121</td>\n",
       "      <td>0</td>\n",
       "      <td>0</td>\n",
       "    </tr>\n",
       "  </tbody>\n",
       "</table>\n",
       "<p>10 rows × 35 columns</p>\n",
       "</div>"
      ],
      "text/plain": [
       "   Unnamed: 0                     Area Property Type     Amount   \n",
       "0           0             BUSINESS BAY          Unit  2631000.0  \\\n",
       "1           1    JUMEIRAH LAKES TOWERS          Unit  1170137.0   \n",
       "2           2  JUMEIRAH VILLAGE CIRCLE          Unit   590000.0   \n",
       "3           3  JUMEIRAH VILLAGE CIRCLE          Unit   600000.0   \n",
       "4           4      DUBAI CREEK HARBOUR          Unit  1340888.0   \n",
       "5           5      DUBAI CREEK HARBOUR          Unit  2261888.0   \n",
       "6           7      DUBAI CREEK HARBOUR          Unit  2299888.0   \n",
       "7           8      DUBAI CREEK HARBOUR          Unit  2296888.0   \n",
       "8           9             BUSINESS BAY          Unit  3216000.0   \n",
       "9          10      DUBAI CREEK HARBOUR          Unit  1594888.0   \n",
       "\n",
       "   Transaction Size (sq.m)  Property Size (sq.m)  Room(s)  Parking   \n",
       "0                   105.75                105.75        2        1  \\\n",
       "1                    99.64                 99.64        2        1   \n",
       "2                    63.95                 63.95        1        1   \n",
       "3                    61.36                 61.36        1        1   \n",
       "4                    64.09                 64.09        1        1   \n",
       "5                    97.23                 97.23        2        1   \n",
       "6                    97.23                 97.23        2        1   \n",
       "7                   100.15                100.15        2        1   \n",
       "8                   133.39                133.39        2        1   \n",
       "9                    75.42                 75.42        1        1   \n",
       "\n",
       "                Nearest Metro        Nearest Mall  ...     mall_x     mall_y   \n",
       "0  Business Bay Metro Station          Dubai Mall  ...  25.197438  55.276923  \\\n",
       "1            Damac Properties         Marina Mall  ...  25.076352  55.139384   \n",
       "2         Dubai Internet City         Marina Mall  ...  25.076352  55.139384   \n",
       "3         Dubai Internet City         Marina Mall  ...  25.076352  55.139384   \n",
       "4         Creek Metro Station  City Centre Mirdif  ...  25.216319  55.405220   \n",
       "5         Creek Metro Station  City Centre Mirdif  ...  25.216319  55.405220   \n",
       "6         Creek Metro Station  City Centre Mirdif  ...  25.216319  55.405220   \n",
       "7         Creek Metro Station  City Centre Mirdif  ...  25.216319  55.405220   \n",
       "8  Business Bay Metro Station          Dubai Mall  ...  25.197438  55.276923   \n",
       "9         Creek Metro Station  City Centre Mirdif  ...  25.216319  55.405220   \n",
       "\n",
       "                                            Landmark landmark_x landmark_y   \n",
       "0        Downtown Dubai, Dubai, United Arab Emirates  25.194128  55.267727  \\\n",
       "1          Burj Al Arab, Dubai, United Arab Emirates  25.141555  55.183691   \n",
       "2  Sports City Swimming Academy, Dubai, United Ar...  25.041833  55.216391   \n",
       "3  Sports City Swimming Academy, Dubai, United Ar...  25.041833  55.216391   \n",
       "4  Dubai International Airport, Dubai, United Ara...  25.253175  55.363098   \n",
       "5  Dubai International Airport, Dubai, United Ara...  25.253175  55.363098   \n",
       "6  Dubai International Airport, Dubai, United Ara...  25.253175  55.363098   \n",
       "7  Dubai International Airport, Dubai, United Ara...  25.253175  55.363098   \n",
       "8        Downtown Dubai, Dubai, United Arab Emirates  25.194128  55.267727   \n",
       "9  Dubai International Airport, Dubai, United Ara...  25.253175  55.363098   \n",
       "\n",
       "   Metro_Dist Mall_Dist  Landmark_Dist  Registration type_Ready   \n",
       "0    1.808766  1.481400       1.256166                        0  \\\n",
       "1    0.882072  1.559598       7.418886                        0   \n",
       "2    5.656309  9.926351      10.058487                        0   \n",
       "3    5.656309  9.926351      10.058487                        0   \n",
       "4    1.198724  6.074031       5.131121                        0   \n",
       "5    1.198724  6.074031       5.131121                        0   \n",
       "6    1.198724  6.074031       5.131121                        0   \n",
       "7    1.198724  6.074031       5.131121                        0   \n",
       "8    9.824972  7.784286       8.778089                        0   \n",
       "9    1.198724  6.074031       5.131121                        0   \n",
       "\n",
       "   Is Free Hold?_Non Free Hold  \n",
       "0                            0  \n",
       "1                            0  \n",
       "2                            0  \n",
       "3                            0  \n",
       "4                            0  \n",
       "5                            0  \n",
       "6                            0  \n",
       "7                            0  \n",
       "8                            0  \n",
       "9                            0  \n",
       "\n",
       "[10 rows x 35 columns]"
      ]
     },
     "execution_count": 3,
     "metadata": {},
     "output_type": "execute_result"
    }
   ],
   "source": [
    "# Load the CSV file into a Pandas DataFrame\n",
    "df = pd.read_csv(r'C:\\Users\\Karan\\Desktop\\Real Estate Price Prediction\\406.csv')\n",
    "\n",
    "df.head(10)"
   ]
  },
  {
   "cell_type": "code",
   "execution_count": 4,
   "metadata": {},
   "outputs": [
    {
     "name": "stdout",
     "output_type": "stream",
     "text": [
      "<class 'pandas.core.frame.DataFrame'>\n",
      "RangeIndex: 18174 entries, 0 to 18173\n",
      "Data columns (total 35 columns):\n",
      " #   Column                       Non-Null Count  Dtype  \n",
      "---  ------                       --------------  -----  \n",
      " 0   Unnamed: 0                   18174 non-null  int64  \n",
      " 1   Area                         18174 non-null  object \n",
      " 2   Property Type                18174 non-null  object \n",
      " 3   Amount                       18174 non-null  float64\n",
      " 4   Transaction Size (sq.m)      18174 non-null  float64\n",
      " 5   Property Size (sq.m)         18174 non-null  float64\n",
      " 6   Room(s)                      18174 non-null  int64  \n",
      " 7   Parking                      18174 non-null  int64  \n",
      " 8   Nearest Metro                18174 non-null  object \n",
      " 9   Nearest Mall                 18174 non-null  object \n",
      " 10  Nearest Landmark             18174 non-null  object \n",
      " 11  Project                      18174 non-null  object \n",
      " 12  Date                         18174 non-null  object \n",
      " 13  Month                        18174 non-null  object \n",
      " 14  Address                      18174 non-null  object \n",
      " 15  Month_No                     18174 non-null  int64  \n",
      " 16  Area_Address                 18174 non-null  object \n",
      " 17  lat                          18174 non-null  float64\n",
      " 18  lon                          18174 non-null  float64\n",
      " 19  address_x                    18174 non-null  float64\n",
      " 20  address_y                    18174 non-null  float64\n",
      " 21  Metro                        18174 non-null  object \n",
      " 22  metro_x                      18174 non-null  float64\n",
      " 23  metro_y                      18174 non-null  float64\n",
      " 24  Mall                         18174 non-null  object \n",
      " 25  mall_x                       18174 non-null  float64\n",
      " 26  mall_y                       18174 non-null  float64\n",
      " 27  Landmark                     18174 non-null  object \n",
      " 28  landmark_x                   18174 non-null  float64\n",
      " 29  landmark_y                   18174 non-null  float64\n",
      " 30  Metro_Dist                   18174 non-null  float64\n",
      " 31  Mall_Dist                    18174 non-null  float64\n",
      " 32  Landmark_Dist                18174 non-null  float64\n",
      " 33  Registration type_Ready      18174 non-null  int64  \n",
      " 34  Is Free Hold?_Non Free Hold  18174 non-null  int64  \n",
      "dtypes: float64(16), int64(6), object(13)\n",
      "memory usage: 4.9+ MB\n"
     ]
    }
   ],
   "source": [
    "df.info()"
   ]
  },
  {
   "cell_type": "code",
   "execution_count": 5,
   "metadata": {},
   "outputs": [],
   "source": [
    "#Creating a dataframe that includes columns to be used as independent variables\n",
    "\n",
    "df2 = df[['Transaction Size (sq.m)', 'lat', 'lon', 'Metro_Dist', 'Mall_Dist', 'Landmark_Dist', 'Room(s)', 'Registration type_Ready', 'Is Free Hold?_Non Free Hold', 'Parking']]"
   ]
  },
  {
   "attachments": {},
   "cell_type": "markdown",
   "metadata": {},
   "source": [
    "#### Multiple Linear Regression"
   ]
  },
  {
   "cell_type": "code",
   "execution_count": 6,
   "metadata": {},
   "outputs": [
    {
     "name": "stdout",
     "output_type": "stream",
     "text": [
      "Mean Squared Error: 5068526624299.885\n",
      "R-squared: 0.6503291511530205\n"
     ]
    }
   ],
   "source": [
    "# Split the data into training and testing sets\n",
    "X_train, X_test, y_train, y_test = train_test_split(df2, df['Amount'].values, test_size=0.2, random_state=42)\n",
    "\n",
    "# Create the Linear Regression model\n",
    "ml_regressor = LinearRegression()\n",
    "\n",
    "# Train the model\n",
    "ml_regressor.fit(X_train, y_train)\n",
    "\n",
    "# Make predictions on the test set\n",
    "y_pred_multiple_linear = ml_regressor.predict(X_test)\n",
    "\n",
    "# Calculate mean squared error\n",
    "mse = mean_squared_error(y_test, y_pred_multiple_linear)\n",
    "print(\"Mean Squared Error:\", mse)\n",
    "\n",
    "# Calculate R-squared value\n",
    "r2 = r2_score(y_test, y_pred_multiple_linear)\n",
    "print(\"R-squared:\", r2)"
   ]
  },
  {
   "attachments": {},
   "cell_type": "markdown",
   "metadata": {},
   "source": [
    "#### Polynomial Regression"
   ]
  },
  {
   "cell_type": "code",
   "execution_count": 7,
   "metadata": {},
   "outputs": [
    {
     "name": "stdout",
     "output_type": "stream",
     "text": [
      "Mean Squared Error: 3683830942127.073\n",
      "R-squared: 0.7458574477311202\n"
     ]
    }
   ],
   "source": [
    "# Split the data into training and testing sets\n",
    "X_train, X_test, y_train, y_test = train_test_split(df2, df['Amount'].values, test_size=0.2, random_state=42)\n",
    "\n",
    "# Create polynomial features\n",
    "degree = 2  # degree of polynomial features\n",
    "poly_features = PolynomialFeatures(degree=degree)\n",
    "X_train_poly = poly_features.fit_transform(X_train)\n",
    "X_test_poly = poly_features.transform(X_test)\n",
    "\n",
    "# Create the Linear Regression model\n",
    "p_regressor = LinearRegression()\n",
    "\n",
    "# Train the model\n",
    "p_regressor.fit(X_train_poly, y_train)\n",
    "\n",
    "# Make predictions on the test set\n",
    "y_pred_polynomial = p_regressor.predict(X_test_poly)\n",
    "\n",
    "# Calculate mean squared error\n",
    "mse = mean_squared_error(y_test, y_pred_polynomial)\n",
    "print(\"Mean Squared Error:\", mse)\n",
    "\n",
    "# Calculate R-squared value\n",
    "r2 = r2_score(y_test, y_pred_polynomial)\n",
    "print(\"R-squared:\", r2)\n"
   ]
  },
  {
   "attachments": {},
   "cell_type": "markdown",
   "metadata": {},
   "source": [
    "#### Decision Tree Regression"
   ]
  },
  {
   "cell_type": "code",
   "execution_count": 8,
   "metadata": {},
   "outputs": [
    {
     "name": "stdout",
     "output_type": "stream",
     "text": [
      "Mean Squared Error: 2787245361633.1025\n",
      "R-squared: 0.8077116835345267\n"
     ]
    }
   ],
   "source": [
    "# Split the data into training and testing sets\n",
    "X_train, X_test, y_train, y_test = train_test_split(df2, df['Amount'], test_size=0.2, random_state=42)\n",
    "\n",
    "# Create the decision tree regressor\n",
    "dt_regressor = DecisionTreeRegressor()\n",
    "\n",
    "# Train the model\n",
    "dt_regressor.fit(X_train, y_train)\n",
    "\n",
    "# Make predictions on the test set\n",
    "y_pred_decision_tree = dt_regressor.predict(X_test)\n",
    "\n",
    "# Calculate mean squared error\n",
    "mse = mean_squared_error(y_test, y_pred_decision_tree)\n",
    "print(\"Mean Squared Error:\", mse)\n",
    "\n",
    "# Calculate R-squared value\n",
    "r2 = r2_score(y_test, y_pred_decision_tree)\n",
    "print(\"R-squared:\", r2)\n"
   ]
  },
  {
   "attachments": {},
   "cell_type": "markdown",
   "metadata": {},
   "source": [
    "#### Random Forest Regression"
   ]
  },
  {
   "cell_type": "code",
   "execution_count": 9,
   "metadata": {},
   "outputs": [
    {
     "name": "stdout",
     "output_type": "stream",
     "text": [
      "Mean Squared Error: 2409448598995.0474\n",
      "R-squared: 0.8337753751110777\n"
     ]
    }
   ],
   "source": [
    "# Split the data into training and testing sets\n",
    "X_train, X_test, y_train, y_test = train_test_split(df2, df['Amount'].values, test_size=0.2, random_state=42)\n",
    "\n",
    "# Create the Random Forest regressor\n",
    "rf_regressor = RandomForestRegressor()\n",
    "\n",
    "# Train the model\n",
    "rf_regressor.fit(X_train, y_train)\n",
    "\n",
    "# Make predictions on the test set\n",
    "y_pred_random_forest = rf_regressor.predict(X_test)\n",
    "\n",
    "# Calculate mean squared error\n",
    "mse = mean_squared_error(y_test, y_pred_random_forest)\n",
    "print(\"Mean Squared Error:\", mse)\n",
    "\n",
    "# Calculate R-squared value\n",
    "r2 = r2_score(y_test, y_pred_random_forest)\n",
    "print(\"R-squared:\", r2)"
   ]
  },
  {
   "attachments": {},
   "cell_type": "markdown",
   "metadata": {},
   "source": [
    "#### Hyperparameter Tuning"
   ]
  },
  {
   "cell_type": "code",
   "execution_count": 11,
   "metadata": {},
   "outputs": [
    {
     "name": "stdout",
     "output_type": "stream",
     "text": [
      "Parameters currently in use:\n",
      "\n",
      "{'bootstrap': True,\n",
      " 'ccp_alpha': 0.0,\n",
      " 'criterion': 'squared_error',\n",
      " 'max_depth': None,\n",
      " 'max_features': 1.0,\n",
      " 'max_leaf_nodes': None,\n",
      " 'max_samples': None,\n",
      " 'min_impurity_decrease': 0.0,\n",
      " 'min_samples_leaf': 1,\n",
      " 'min_samples_split': 2,\n",
      " 'min_weight_fraction_leaf': 0.0,\n",
      " 'n_estimators': 100,\n",
      " 'n_jobs': None,\n",
      " 'oob_score': False,\n",
      " 'random_state': None,\n",
      " 'verbose': 0,\n",
      " 'warm_start': False}\n"
     ]
    }
   ],
   "source": [
    "from pprint import pprint\n",
    "# Look at parameters used by our current forest\n",
    "print('Parameters currently in use:\\n')\n",
    "pprint(rf_regressor.get_params())"
   ]
  },
  {
   "cell_type": "code",
   "execution_count": 12,
   "metadata": {},
   "outputs": [
    {
     "name": "stdout",
     "output_type": "stream",
     "text": [
      "{'bootstrap': [True, False],\n",
      " 'max_depth': [10, 20, 30, 40, 50, 60, 70, 80, 90, 100, 110, None],\n",
      " 'max_features': ['auto', 'sqrt'],\n",
      " 'min_samples_leaf': [1, 2, 4],\n",
      " 'min_samples_split': [2, 5, 10],\n",
      " 'n_estimators': [200, 400, 600, 800, 1000, 1200, 1400, 1600, 1800, 2000]}\n"
     ]
    },
    {
     "data": {
      "text/plain": [
       "{'bootstrap': [True, False],\n",
       " 'max_depth': [10, 20, 30, 40, 50, 60, 70, 80, 90, 100, None],\n",
       " 'max_features': ['auto', 'sqrt'],\n",
       " 'min_samples_leaf': [1, 2, 4],\n",
       " 'min_samples_split': [2, 5, 10],\n",
       " 'n_estimators': [200, 400, 600, 800, 1000, 1200, 1400, 1600, 1800, 2000]}"
      ]
     },
     "execution_count": 12,
     "metadata": {},
     "output_type": "execute_result"
    }
   ],
   "source": [
    "from sklearn.model_selection import RandomizedSearchCV\n",
    "# Number of trees in random forest\n",
    "n_estimators = [int(x) for x in np.linspace(start = 200, stop = 2000, num = 10)]\n",
    "# Number of features to consider at every split\n",
    "max_features = ['auto', 'sqrt']\n",
    "# Maximum number of levels in tree\n",
    "max_depth = [int(x) for x in np.linspace(10, 110, num = 11)]\n",
    "max_depth.append(None)\n",
    "# Minimum number of samples required to split a node\n",
    "min_samples_split = [2, 5, 10]\n",
    "# Minimum number of samples required at each leaf node\n",
    "min_samples_leaf = [1, 2, 4]\n",
    "# Method of selecting samples for training each tree\n",
    "bootstrap = [True, False]\n",
    "# Create the random grid\n",
    "random_grid = {'n_estimators': n_estimators,\n",
    "               'max_features': max_features,\n",
    "               'max_depth': max_depth,\n",
    "               'min_samples_split': min_samples_split,\n",
    "               'min_samples_leaf': min_samples_leaf,\n",
    "               'bootstrap': bootstrap}\n",
    "pprint(random_grid)\n",
    "{'bootstrap': [True, False],\n",
    " 'max_depth': [10, 20, 30, 40, 50, 60, 70, 80, 90, 100, None],\n",
    " 'max_features': ['auto', 'sqrt'],\n",
    " 'min_samples_leaf': [1, 2, 4],\n",
    " 'min_samples_split': [2, 5, 10],\n",
    " 'n_estimators': [200, 400, 600, 800, 1000, 1200, 1400, 1600, 1800, 2000]}"
   ]
  },
  {
   "cell_type": "code",
   "execution_count": 14,
   "metadata": {},
   "outputs": [
    {
     "name": "stdout",
     "output_type": "stream",
     "text": [
      "Fitting 3 folds for each of 100 candidates, totalling 300 fits\n"
     ]
    },
    {
     "data": {
      "text/html": [
       "<style>#sk-container-id-1 {color: black;background-color: white;}#sk-container-id-1 pre{padding: 0;}#sk-container-id-1 div.sk-toggleable {background-color: white;}#sk-container-id-1 label.sk-toggleable__label {cursor: pointer;display: block;width: 100%;margin-bottom: 0;padding: 0.3em;box-sizing: border-box;text-align: center;}#sk-container-id-1 label.sk-toggleable__label-arrow:before {content: \"▸\";float: left;margin-right: 0.25em;color: #696969;}#sk-container-id-1 label.sk-toggleable__label-arrow:hover:before {color: black;}#sk-container-id-1 div.sk-estimator:hover label.sk-toggleable__label-arrow:before {color: black;}#sk-container-id-1 div.sk-toggleable__content {max-height: 0;max-width: 0;overflow: hidden;text-align: left;background-color: #f0f8ff;}#sk-container-id-1 div.sk-toggleable__content pre {margin: 0.2em;color: black;border-radius: 0.25em;background-color: #f0f8ff;}#sk-container-id-1 input.sk-toggleable__control:checked~div.sk-toggleable__content {max-height: 200px;max-width: 100%;overflow: auto;}#sk-container-id-1 input.sk-toggleable__control:checked~label.sk-toggleable__label-arrow:before {content: \"▾\";}#sk-container-id-1 div.sk-estimator input.sk-toggleable__control:checked~label.sk-toggleable__label {background-color: #d4ebff;}#sk-container-id-1 div.sk-label input.sk-toggleable__control:checked~label.sk-toggleable__label {background-color: #d4ebff;}#sk-container-id-1 input.sk-hidden--visually {border: 0;clip: rect(1px 1px 1px 1px);clip: rect(1px, 1px, 1px, 1px);height: 1px;margin: -1px;overflow: hidden;padding: 0;position: absolute;width: 1px;}#sk-container-id-1 div.sk-estimator {font-family: monospace;background-color: #f0f8ff;border: 1px dotted black;border-radius: 0.25em;box-sizing: border-box;margin-bottom: 0.5em;}#sk-container-id-1 div.sk-estimator:hover {background-color: #d4ebff;}#sk-container-id-1 div.sk-parallel-item::after {content: \"\";width: 100%;border-bottom: 1px solid gray;flex-grow: 1;}#sk-container-id-1 div.sk-label:hover label.sk-toggleable__label {background-color: #d4ebff;}#sk-container-id-1 div.sk-serial::before {content: \"\";position: absolute;border-left: 1px solid gray;box-sizing: border-box;top: 0;bottom: 0;left: 50%;z-index: 0;}#sk-container-id-1 div.sk-serial {display: flex;flex-direction: column;align-items: center;background-color: white;padding-right: 0.2em;padding-left: 0.2em;position: relative;}#sk-container-id-1 div.sk-item {position: relative;z-index: 1;}#sk-container-id-1 div.sk-parallel {display: flex;align-items: stretch;justify-content: center;background-color: white;position: relative;}#sk-container-id-1 div.sk-item::before, #sk-container-id-1 div.sk-parallel-item::before {content: \"\";position: absolute;border-left: 1px solid gray;box-sizing: border-box;top: 0;bottom: 0;left: 50%;z-index: -1;}#sk-container-id-1 div.sk-parallel-item {display: flex;flex-direction: column;z-index: 1;position: relative;background-color: white;}#sk-container-id-1 div.sk-parallel-item:first-child::after {align-self: flex-end;width: 50%;}#sk-container-id-1 div.sk-parallel-item:last-child::after {align-self: flex-start;width: 50%;}#sk-container-id-1 div.sk-parallel-item:only-child::after {width: 0;}#sk-container-id-1 div.sk-dashed-wrapped {border: 1px dashed gray;margin: 0 0.4em 0.5em 0.4em;box-sizing: border-box;padding-bottom: 0.4em;background-color: white;}#sk-container-id-1 div.sk-label label {font-family: monospace;font-weight: bold;display: inline-block;line-height: 1.2em;}#sk-container-id-1 div.sk-label-container {text-align: center;}#sk-container-id-1 div.sk-container {/* jupyter's `normalize.less` sets `[hidden] { display: none; }` but bootstrap.min.css set `[hidden] { display: none !important; }` so we also need the `!important` here to be able to override the default hidden behavior on the sphinx rendered scikit-learn.org. See: https://github.com/scikit-learn/scikit-learn/issues/21755 */display: inline-block !important;position: relative;}#sk-container-id-1 div.sk-text-repr-fallback {display: none;}</style><div id=\"sk-container-id-1\" class=\"sk-top-container\"><div class=\"sk-text-repr-fallback\"><pre>RandomizedSearchCV(cv=3, estimator=RandomForestRegressor(), n_iter=100,\n",
       "                   n_jobs=-1,\n",
       "                   param_distributions={&#x27;bootstrap&#x27;: [True, False],\n",
       "                                        &#x27;max_depth&#x27;: [10, 20, 30, 40, 50, 60,\n",
       "                                                      70, 80, 90, 100, 110,\n",
       "                                                      None],\n",
       "                                        &#x27;max_features&#x27;: [&#x27;auto&#x27;, &#x27;sqrt&#x27;],\n",
       "                                        &#x27;min_samples_leaf&#x27;: [1, 2, 4],\n",
       "                                        &#x27;min_samples_split&#x27;: [2, 5, 10],\n",
       "                                        &#x27;n_estimators&#x27;: [200, 400, 600, 800,\n",
       "                                                         1000, 1200, 1400, 1600,\n",
       "                                                         1800, 2000]},\n",
       "                   random_state=42, verbose=2)</pre><b>In a Jupyter environment, please rerun this cell to show the HTML representation or trust the notebook. <br />On GitHub, the HTML representation is unable to render, please try loading this page with nbviewer.org.</b></div><div class=\"sk-container\" hidden><div class=\"sk-item sk-dashed-wrapped\"><div class=\"sk-label-container\"><div class=\"sk-label sk-toggleable\"><input class=\"sk-toggleable__control sk-hidden--visually\" id=\"sk-estimator-id-1\" type=\"checkbox\" ><label for=\"sk-estimator-id-1\" class=\"sk-toggleable__label sk-toggleable__label-arrow\">RandomizedSearchCV</label><div class=\"sk-toggleable__content\"><pre>RandomizedSearchCV(cv=3, estimator=RandomForestRegressor(), n_iter=100,\n",
       "                   n_jobs=-1,\n",
       "                   param_distributions={&#x27;bootstrap&#x27;: [True, False],\n",
       "                                        &#x27;max_depth&#x27;: [10, 20, 30, 40, 50, 60,\n",
       "                                                      70, 80, 90, 100, 110,\n",
       "                                                      None],\n",
       "                                        &#x27;max_features&#x27;: [&#x27;auto&#x27;, &#x27;sqrt&#x27;],\n",
       "                                        &#x27;min_samples_leaf&#x27;: [1, 2, 4],\n",
       "                                        &#x27;min_samples_split&#x27;: [2, 5, 10],\n",
       "                                        &#x27;n_estimators&#x27;: [200, 400, 600, 800,\n",
       "                                                         1000, 1200, 1400, 1600,\n",
       "                                                         1800, 2000]},\n",
       "                   random_state=42, verbose=2)</pre></div></div></div><div class=\"sk-parallel\"><div class=\"sk-parallel-item\"><div class=\"sk-item\"><div class=\"sk-label-container\"><div class=\"sk-label sk-toggleable\"><input class=\"sk-toggleable__control sk-hidden--visually\" id=\"sk-estimator-id-2\" type=\"checkbox\" ><label for=\"sk-estimator-id-2\" class=\"sk-toggleable__label sk-toggleable__label-arrow\">estimator: RandomForestRegressor</label><div class=\"sk-toggleable__content\"><pre>RandomForestRegressor()</pre></div></div></div><div class=\"sk-serial\"><div class=\"sk-item\"><div class=\"sk-estimator sk-toggleable\"><input class=\"sk-toggleable__control sk-hidden--visually\" id=\"sk-estimator-id-3\" type=\"checkbox\" ><label for=\"sk-estimator-id-3\" class=\"sk-toggleable__label sk-toggleable__label-arrow\">RandomForestRegressor</label><div class=\"sk-toggleable__content\"><pre>RandomForestRegressor()</pre></div></div></div></div></div></div></div></div></div></div>"
      ],
      "text/plain": [
       "RandomizedSearchCV(cv=3, estimator=RandomForestRegressor(), n_iter=100,\n",
       "                   n_jobs=-1,\n",
       "                   param_distributions={'bootstrap': [True, False],\n",
       "                                        'max_depth': [10, 20, 30, 40, 50, 60,\n",
       "                                                      70, 80, 90, 100, 110,\n",
       "                                                      None],\n",
       "                                        'max_features': ['auto', 'sqrt'],\n",
       "                                        'min_samples_leaf': [1, 2, 4],\n",
       "                                        'min_samples_split': [2, 5, 10],\n",
       "                                        'n_estimators': [200, 400, 600, 800,\n",
       "                                                         1000, 1200, 1400, 1600,\n",
       "                                                         1800, 2000]},\n",
       "                   random_state=42, verbose=2)"
      ]
     },
     "execution_count": 14,
     "metadata": {},
     "output_type": "execute_result"
    }
   ],
   "source": [
    "# Use the random grid to search for best hyperparameters\n",
    "# First create the base model to tune\n",
    "rf = RandomForestRegressor()\n",
    "# Random search of parameters, using 3 fold cross validation, \n",
    "# search across 100 different combinations, and use all available cores\n",
    "rf_random = RandomizedSearchCV(estimator = rf, param_distributions = random_grid, n_iter = 100, cv = 3, verbose=2, random_state=42, n_jobs = -1)\n",
    "# Fit the random search model\n",
    "rf_random.fit(X_train, y_train)"
   ]
  },
  {
   "cell_type": "code",
   "execution_count": 15,
   "metadata": {},
   "outputs": [
    {
     "data": {
      "text/plain": [
       "{'n_estimators': 400,\n",
       " 'min_samples_split': 2,\n",
       " 'min_samples_leaf': 1,\n",
       " 'max_features': 'sqrt',\n",
       " 'max_depth': None,\n",
       " 'bootstrap': False}"
      ]
     },
     "execution_count": 15,
     "metadata": {},
     "output_type": "execute_result"
    }
   ],
   "source": [
    "rf_random.best_params_"
   ]
  },
  {
   "attachments": {},
   "cell_type": "markdown",
   "metadata": {},
   "source": [
    "#### Comparing the two Random Forest Regression models"
   ]
  },
  {
   "cell_type": "code",
   "execution_count": 16,
   "metadata": {},
   "outputs": [],
   "source": [
    "def evaluate(model, test_features, test_labels):\n",
    "    predictions = model.predict(test_features)\n",
    "    errors = abs(predictions - test_labels)\n",
    "    mape = 100 * np.mean(errors / test_labels)\n",
    "    accuracy = 100 - mape\n",
    "    print('Model Performance')\n",
    "    print('Average Error: {:0.4f} degrees.'.format(np.mean(errors)))\n",
    "    print('Accuracy = {:0.2f}%.'.format(accuracy))\n",
    "    \n",
    "    return accuracy"
   ]
  },
  {
   "cell_type": "code",
   "execution_count": 18,
   "metadata": {},
   "outputs": [
    {
     "name": "stdout",
     "output_type": "stream",
     "text": [
      "Model Performance\n",
      "Average Error: 329815.1761 degrees.\n",
      "Accuracy = 85.15%.\n",
      "Model Performance\n",
      "Average Error: 337439.8457 degrees.\n",
      "Accuracy = 85.07%.\n",
      "Improvement of 0.09%.\n"
     ]
    }
   ],
   "source": [
    "best_random = rf_random.best_estimator_\n",
    "random_accuracy = evaluate(best_random, X_test, y_test)\n",
    "\n",
    "basemodel_accuracy=evaluate(rf_regressor,X_test,y_test)\n",
    "\n",
    "print('Improvement of {:0.2f}%.'.format( 100 * (random_accuracy - basemodel_accuracy) / basemodel_accuracy))"
   ]
  },
  {
   "cell_type": "code",
   "execution_count": 19,
   "metadata": {},
   "outputs": [
    {
     "data": {
      "text/plain": [
       "['housepriceprediction.joblib']"
      ]
     },
     "execution_count": 19,
     "metadata": {},
     "output_type": "execute_result"
    }
   ],
   "source": [
    "#Storing the model so we can use it in the Real Estate Price Prediction application\n",
    "\n",
    "from joblib import dump,load\n",
    "dump(rf_random,'housepriceprediction.joblib')"
   ]
  },
  {
   "attachments": {},
   "cell_type": "markdown",
   "metadata": {},
   "source": [
    "Next, I have developed an app for predicting real estate prices, leveraging the power of the random forest regression model. This app serves as a valuable tool for individuals seeking reliable property price estimates. I have designed the app using Flask, a Python web framework, and HTML for the user interface. By harnessing the capabilities of the random forest regression model within a user-friendly interface, users can input relevant property features and obtain price predictions. The app streamlines the prediction process, empowering users to make informed decisions about buying or selling real estate based on reliable and up-to-date estimations."
   ]
  }
 ],
 "metadata": {
  "kernelspec": {
   "display_name": "Python 3 (ipykernel)",
   "language": "python",
   "name": "python3"
  },
  "language_info": {
   "codemirror_mode": {
    "name": "ipython",
    "version": 3
   },
   "file_extension": ".py",
   "mimetype": "text/x-python",
   "name": "python",
   "nbconvert_exporter": "python",
   "pygments_lexer": "ipython3",
   "version": "3.11.3"
  }
 },
 "nbformat": 4,
 "nbformat_minor": 2
}
